{
 "cells": [
  {
   "cell_type": "code",
   "execution_count": 3,
   "id": "63ca1e4f-5958-4429-b2cd-2ca36e49904f",
   "metadata": {},
   "outputs": [],
   "source": [
    "import numpy as np\n",
    "\n",
    "def player_strategy(n_battalions,n_fields):\n",
    "    battalions=np.zeros(n_fields,dtype=int)\n",
    "    battalions[0:1]=10    \n",
    "    battalions[1:4]=30    \n",
    "    battalions[4:]=0      \n",
    "    battalions=battalions[np.random.rand(n_fields).argsort()]\n",
    "    assert sum(battalions)==n_battalions\n",
    "    return battalions\n",
    "\n",
    "\n",
    "def computer_strategy(n_battalions,n_fields):\n",
    "    battalions=np.zeros(n_fields,dtype=int)\n",
    "    battalions[0:1]=8\n",
    "    battalions[1:4]=30\n",
    "    battalions[4:]=1\n",
    "    battalions=battalions[np.random.rand(n_fields).argsort()]\n",
    "    assert sum(battalions)==n_battalions\n",
    "    return battalions\n",
    "\n",
    "def call_battle(n_battalions,n_fields, player_strategy, computer_strategy):\n",
    "    c_battlions=computer_strategy(n_battalions,n_fields)\n",
    "    p_battlions=player_strategy(n_battalions,n_fields)\n",
    "\n",
    "    diff=p_battlions-c_battlions\n",
    "    points=sum(diff>0)-sum(diff<0)\n",
    " \n",
    "    return int(points>0)-int(points<0)\n",
    "\n",
    "\n",
    "\n",
    "def test_strategies(n_fields,n_battalions,player_strategy, computer_strategy):\n",
    "    n_tests=100000\n",
    "    r=0\n",
    "    record=[]\n",
    "    for i in range(n_tests):\n",
    "        p=call_battle(n_battalions,n_fields,\n",
    "            player_strategy, computer_strategy)\n",
    "        record.append(p)\n",
    "        r+=p\n",
    "    return r/n_tests\n",
    "\n",
    "test_strategies(6,100,player_strategy, computer_strategy)\n",
    "\n",
    "\n",
    "\n",
    "import blotto\n",
    "blotto.run(6, 100, player_strategy, computer_strategy)"
   ]
  },
  {
   "cell_type": "code",
   "execution_count": null,
   "id": "8eee6244-9509-4922-a99a-70a15b7177dd",
   "metadata": {},
   "outputs": [],
   "source": []
  }
 ],
 "metadata": {
  "kernelspec": {
   "display_name": "Python 3 (ipykernel)",
   "language": "python",
   "name": "python3"
  },
  "language_info": {
   "codemirror_mode": {
    "name": "ipython",
    "version": 3
   },
   "file_extension": ".py",
   "mimetype": "text/x-python",
   "name": "python",
   "nbconvert_exporter": "python",
   "pygments_lexer": "ipython3",
   "version": "3.9.9"
  }
 },
 "nbformat": 4,
 "nbformat_minor": 5
}
